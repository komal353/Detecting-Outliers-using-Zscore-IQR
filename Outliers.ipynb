{
 "cells": [
  {
   "cell_type": "code",
   "execution_count": 82,
   "metadata": {},
   "outputs": [],
   "source": [
    "## creating a list\n",
    "l=[1,2,3,5,6,10,7,11,20,10000]"
   ]
  },
  {
   "cell_type": "code",
   "execution_count": 83,
   "metadata": {},
   "outputs": [],
   "source": [
    "from scipy.stats import zscore,iqr\n",
    "import numpy as np"
   ]
  },
  {
   "cell_type": "code",
   "execution_count": 84,
   "metadata": {},
   "outputs": [
    {
     "name": "stdout",
     "output_type": "stream",
     "text": [
      "[-0.33540839 -0.33507482 -0.33474124 -0.3340741  -0.33374052 -0.33240623\n",
      " -0.33340695 -0.33207265 -0.32907049  2.9999954 ]\n"
     ]
    }
   ],
   "source": [
    "## Z-score through scipy.stats\n",
    "zscores = zscore(l)\n",
    "print(zscores)"
   ]
  },
  {
   "cell_type": "markdown",
   "metadata": {},
   "source": [
    "#### Z-score manually"
   ]
  },
  {
   "cell_type": "code",
   "execution_count": 85,
   "metadata": {},
   "outputs": [],
   "source": [
    "## calculate Mean\n",
    "mean_l=sum(l)/len(l)"
   ]
  },
  {
   "cell_type": "code",
   "execution_count": 86,
   "metadata": {},
   "outputs": [],
   "source": [
    "## calculate standard deviation\n",
    "std_l=np.std(l)"
   ]
  },
  {
   "cell_type": "code",
   "execution_count": 87,
   "metadata": {},
   "outputs": [
    {
     "data": {
      "text/plain": [
       "array([6.64258034e-01, 1.66425803e+00, 2.66425803e+00, 4.66425803e+00,\n",
       "       5.66425803e+00, 9.66425803e+00, 6.66425803e+00, 1.06642580e+01,\n",
       "       1.96642580e+01, 9.99966426e+03])"
      ]
     },
     "execution_count": 87,
     "metadata": {},
     "output_type": "execute_result"
    }
   ],
   "source": [
    "## calculate z-score\n",
    "zscore_l=l-mean_l/std_l\n",
    "## view the Z-score\n",
    "zscore_l"
   ]
  },
  {
   "cell_type": "code",
   "execution_count": 88,
   "metadata": {},
   "outputs": [
    {
     "name": "stdout",
     "output_type": "stream",
     "text": [
      "Outliers in the list are: 5 . Have a Zscore =  4.664258034037683\n",
      "Outliers in the list are: 6 . Have a Zscore =  5.664258034037683\n",
      "Outliers in the list are: 10 . Have a Zscore =  9.664258034037683\n",
      "Outliers in the list are: 7 . Have a Zscore =  6.664258034037683\n",
      "Outliers in the list are: 11 . Have a Zscore =  10.664258034037683\n",
      "Outliers in the list are: 20 . Have a Zscore =  19.664258034037683\n",
      "Outliers in the list are: 10000 . Have a Zscore =  9999.664258034038\n"
     ]
    }
   ],
   "source": [
    "## Print the outliers based on the calculated z-score\n",
    "for i in zscore_l:\n",
    "    if i>3:\n",
    "        x=list(zscore_l).index(i)\n",
    "        print('Outliers in the list are:' , l[x],'. Have a Zscore = ',i)"
   ]
  },
  {
   "cell_type": "markdown",
   "metadata": {},
   "source": [
    "#### Identifying outliers through Interquartile range"
   ]
  },
  {
   "cell_type": "code",
   "execution_count": 135,
   "metadata": {},
   "outputs": [
    {
     "data": {
      "text/plain": [
       "(3.5, 10.75)"
      ]
     },
     "execution_count": 135,
     "metadata": {},
     "output_type": "execute_result"
    }
   ],
   "source": [
    "## sort the list in ascending order\n",
    "sorted_l=l.sort()\n",
    "## get the 25th and 75th percentile\n",
    "q1, q3= np.percentile(l,[25,75])\n",
    "q1,q3"
   ]
  },
  {
   "cell_type": "code",
   "execution_count": 136,
   "metadata": {},
   "outputs": [
    {
     "data": {
      "text/plain": [
       "7.25"
      ]
     },
     "execution_count": 136,
     "metadata": {},
     "output_type": "execute_result"
    }
   ],
   "source": [
    "## Get the IQR\n",
    "iqr=q3-q1\n",
    "iqr"
   ]
  },
  {
   "cell_type": "code",
   "execution_count": 138,
   "metadata": {},
   "outputs": [
    {
     "data": {
      "text/plain": [
       "(-7.375, 21.625)"
      ]
     },
     "execution_count": 138,
     "metadata": {},
     "output_type": "execute_result"
    }
   ],
   "source": [
    "## get the lower & upper bounds\n",
    "Lower_Bound=q1-(1.5*iqr)\n",
    "Upper_Bound=q3+(1.5*iqr)\n",
    "## check the range\n",
    "Lower_Bound,Upper_Bound"
   ]
  },
  {
   "cell_type": "code",
   "execution_count": 139,
   "metadata": {},
   "outputs": [
    {
     "name": "stdout",
     "output_type": "stream",
     "text": [
      "Outliers in the list is 10000\n"
     ]
    }
   ],
   "source": [
    "## Print the outliers based on values that lie beyond lower bound and upper bound\n",
    "for i in l:\n",
    "    if i<Lower_Bound or i >Upper_Bound:\n",
    "        print('Outliers in the list is',i)"
   ]
  },
  {
   "cell_type": "code",
   "execution_count": 118,
   "metadata": {},
   "outputs": [
    {
     "name": "stdout",
     "output_type": "stream",
     "text": [
      "6.5\n"
     ]
    }
   ],
   "source": [
    "## IQR through stats library\n",
    "IQR = iqr(l, interpolation = 'midpoint')\n",
    "  \n",
    "print(IQR)"
   ]
  },
  {
   "cell_type": "code",
   "execution_count": 130,
   "metadata": {},
   "outputs": [
    {
     "data": {
      "text/plain": [
       "(3.5, 10.75)"
      ]
     },
     "execution_count": 130,
     "metadata": {},
     "output_type": "execute_result"
    }
   ],
   "source": [
    "## calculate first & second quantile\n",
    "Q1=np.quantile(l,.25)\n",
    "Q3=np.quantile(l,.75)\n",
    "Q1,Q3"
   ]
  },
  {
   "cell_type": "code",
   "execution_count": 131,
   "metadata": {},
   "outputs": [
    {
     "data": {
      "text/plain": [
       "(3.5, 10.75)"
      ]
     },
     "execution_count": 131,
     "metadata": {},
     "output_type": "execute_result"
    }
   ],
   "source": [
    "## Another way to get the same\n",
    "\n",
    "# quantile1=np.percentile(l,25)\n",
    "# quantile3=np.percentile(l,75)\n",
    "# quantile1,quantile3"
   ]
  },
  {
   "cell_type": "code",
   "execution_count": 140,
   "metadata": {},
   "outputs": [
    {
     "data": {
      "text/plain": [
       "(-7.375, 21.625)"
      ]
     },
     "execution_count": 140,
     "metadata": {},
     "output_type": "execute_result"
    }
   ],
   "source": [
    "## calculate minimum and maximum limit\n",
    "min_limit=Q1-(1.5*iqr)\n",
    "max_limit=Q3+(1.5*iqr)\n",
    "## check the limits\n",
    "min_limit,max_limit"
   ]
  },
  {
   "cell_type": "code",
   "execution_count": 141,
   "metadata": {},
   "outputs": [
    {
     "name": "stdout",
     "output_type": "stream",
     "text": [
      "Oulier is 10000\n"
     ]
    }
   ],
   "source": [
    "## Print the outliers\n",
    "for i in l:\n",
    "    if i<min_limit or i>max_limit:\n",
    "        print ('Oulier is',i)"
   ]
  }
 ],
 "metadata": {
  "kernelspec": {
   "display_name": "Python 3",
   "language": "python",
   "name": "python3"
  },
  "language_info": {
   "codemirror_mode": {
    "name": "ipython",
    "version": 3
   },
   "file_extension": ".py",
   "mimetype": "text/x-python",
   "name": "python",
   "nbconvert_exporter": "python",
   "pygments_lexer": "ipython3",
   "version": "3.8.5"
  }
 },
 "nbformat": 4,
 "nbformat_minor": 4
}
